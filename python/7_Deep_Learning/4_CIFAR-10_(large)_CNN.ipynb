{
 "cells": [
  {
   "cell_type": "markdown",
   "metadata": {},
   "source": [
    "# CIFAR-10 (Large)\n",
    "\n",
    "The CIFAR-10 dataset (Canadian Institute For Advanced Research) is a collection of images that are commonly used to train machine learning and computer vision algorithms. It is one of the most widely used datasets for machine learning research.\n",
    "\n",
    "The 10 different classes represent airplanes, cars, birds, cats, deer, dogs, frogs, horses, ships, and trucks...<br>\n",
    "[> more datas](https://en.wikipedia.org/wiki/CIFAR-10)"
   ]
  },
  {
   "cell_type": "code",
   "execution_count": 1,
   "metadata": {},
   "outputs": [
    {
     "name": "stderr",
     "output_type": "stream",
     "text": [
      "Using TensorFlow backend.\n"
     ]
    }
   ],
   "source": [
    "from keras.datasets import cifar10"
   ]
  },
  {
   "cell_type": "code",
   "execution_count": 2,
   "metadata": {},
   "outputs": [],
   "source": [
    "(x_train, y_train), (x_test, y_test) = cifar10.load_data()"
   ]
  },
  {
   "cell_type": "code",
   "execution_count": 3,
   "metadata": {},
   "outputs": [
    {
     "name": "stdout",
     "output_type": "stream",
     "text": [
      "TRAINING DATA SETS : (50000, 32, 32, 3) (50000, 1)\n",
      "EVALUATION DATA SETS :  (10000, 32, 32, 3) (10000, 1)\n"
     ]
    }
   ],
   "source": [
    "print('TRAINING DATA SETS :', x_train.shape, y_train.shape)\n",
    "print('EVALUATION DATA SETS : ', x_test.shape, y_test.shape)"
   ]
  },
  {
   "cell_type": "markdown",
   "metadata": {},
   "source": [
    "### Standardization"
   ]
  },
  {
   "cell_type": "code",
   "execution_count": 4,
   "metadata": {},
   "outputs": [],
   "source": [
    "x_train = x_train / 255\n",
    "x_test = x_test / 255"
   ]
  },
  {
   "cell_type": "markdown",
   "metadata": {},
   "source": [
    "### Convert to ONE-HOT ENCODING"
   ]
  },
  {
   "cell_type": "code",
   "execution_count": 5,
   "metadata": {},
   "outputs": [],
   "source": [
    "from keras.utils import to_categorical"
   ]
  },
  {
   "cell_type": "code",
   "execution_count": 6,
   "metadata": {},
   "outputs": [],
   "source": [
    "y_cat_train = to_categorical(y_train, 10)\n",
    "y_cat_test = to_categorical(y_test, 10)"
   ]
  },
  {
   "cell_type": "markdown",
   "metadata": {},
   "source": [
    "### Compile Model"
   ]
  },
  {
   "cell_type": "code",
   "execution_count": 7,
   "metadata": {},
   "outputs": [],
   "source": [
    "from keras.models import Sequential"
   ]
  },
  {
   "cell_type": "code",
   "execution_count": 8,
   "metadata": {},
   "outputs": [],
   "source": [
    "from keras.layers import Dense, Conv2D, MaxPool2D, Flatten"
   ]
  },
  {
   "cell_type": "code",
   "execution_count": 9,
   "metadata": {},
   "outputs": [],
   "source": [
    "model = Sequential()\n",
    "\n",
    "\n",
    "model.add(Conv2D(filters=32, kernel_size=(4, 4), input_shape=(32, 32, 3), activation='relu'))\n",
    "model.add(Conv2D(filters=32, kernel_size=(4, 4), input_shape=(32, 32, 3), activation='relu'))\n",
    "model.add(MaxPool2D(pool_size=(2, 2)))\n",
    "\n",
    "model.add(Conv2D(filters=32, kernel_size=(4, 4), input_shape=(32, 32, 3), activation='relu'))\n",
    "model.add(Conv2D(filters=32, kernel_size=(4, 4), input_shape=(32, 32, 3), activation='relu'))\n",
    "model.add(MaxPool2D(pool_size=(2, 2)))\n",
    "\n",
    "model.add(Flatten())\n",
    "\n",
    "model.add(Dense(512, activation='relu'))\n",
    "model.add(Dense(10, activation='softmax'))\n",
    "\n",
    "model.compile(loss='categorical_crossentropy', optimizer='rmsprop', metrics=['accuracy'])"
   ]
  },
  {
   "cell_type": "code",
   "execution_count": 10,
   "metadata": {},
   "outputs": [
    {
     "name": "stdout",
     "output_type": "stream",
     "text": [
      "_________________________________________________________________\n",
      "Layer (type)                 Output Shape              Param #   \n",
      "=================================================================\n",
      "conv2d_1 (Conv2D)            (None, 29, 29, 32)        1568      \n",
      "_________________________________________________________________\n",
      "conv2d_2 (Conv2D)            (None, 26, 26, 32)        16416     \n",
      "_________________________________________________________________\n",
      "max_pooling2d_1 (MaxPooling2 (None, 13, 13, 32)        0         \n",
      "_________________________________________________________________\n",
      "conv2d_3 (Conv2D)            (None, 10, 10, 32)        16416     \n",
      "_________________________________________________________________\n",
      "conv2d_4 (Conv2D)            (None, 7, 7, 32)          16416     \n",
      "_________________________________________________________________\n",
      "max_pooling2d_2 (MaxPooling2 (None, 3, 3, 32)          0         \n",
      "_________________________________________________________________\n",
      "flatten_1 (Flatten)          (None, 288)               0         \n",
      "_________________________________________________________________\n",
      "dense_1 (Dense)              (None, 512)               147968    \n",
      "_________________________________________________________________\n",
      "dense_2 (Dense)              (None, 10)                5130      \n",
      "=================================================================\n",
      "Total params: 203,914\n",
      "Trainable params: 203,914\n",
      "Non-trainable params: 0\n",
      "_________________________________________________________________\n"
     ]
    }
   ],
   "source": [
    "model.summary()"
   ]
  },
  {
   "cell_type": "markdown",
   "metadata": {},
   "source": [
    "### Fitting Model"
   ]
  },
  {
   "cell_type": "code",
   "execution_count": 11,
   "metadata": {},
   "outputs": [
    {
     "name": "stdout",
     "output_type": "stream",
     "text": [
      "Epoch 1/20\n",
      "50000/50000 [==============================] - 71s 1ms/step - loss: 1.6296 - acc: 0.4103\n",
      "Epoch 2/20\n",
      "50000/50000 [==============================] - 68s 1ms/step - loss: 1.2533 - acc: 0.5557\n",
      "Epoch 3/20\n",
      "50000/50000 [==============================] - 68s 1ms/step - loss: 1.1014 - acc: 0.6121\n",
      "Epoch 4/20\n",
      "50000/50000 [==============================] - 71s 1ms/step - loss: 1.0033 - acc: 0.6510\n",
      "Epoch 5/20\n",
      "50000/50000 [==============================] - 70s 1ms/step - loss: 0.9547 - acc: 0.6711\n",
      "Epoch 6/20\n",
      "50000/50000 [==============================] - 72s 1ms/step - loss: 0.9296 - acc: 0.6813\n",
      "Epoch 7/20\n",
      "50000/50000 [==============================] - 70s 1ms/step - loss: 0.9251 - acc: 0.6847\n",
      "Epoch 8/20\n",
      "50000/50000 [==============================] - 69s 1ms/step - loss: 0.9155 - acc: 0.6884\n",
      "Epoch 9/20\n",
      "50000/50000 [==============================] - 69s 1ms/step - loss: 0.9154 - acc: 0.6923\n",
      "Epoch 10/20\n",
      "50000/50000 [==============================] - 72s 1ms/step - loss: 0.9127 - acc: 0.6902\n",
      "Epoch 11/20\n",
      "50000/50000 [==============================] - 68s 1ms/step - loss: 0.9162 - acc: 0.6918\n",
      "Epoch 12/20\n",
      "50000/50000 [==============================] - 68s 1ms/step - loss: 0.9184 - acc: 0.6915\n",
      "Epoch 13/20\n",
      "50000/50000 [==============================] - 68s 1ms/step - loss: 0.9191 - acc: 0.6925\n",
      "Epoch 14/20\n",
      "50000/50000 [==============================] - 71s 1ms/step - loss: 0.9171 - acc: 0.6915\n",
      "Epoch 15/20\n",
      "50000/50000 [==============================] - 70s 1ms/step - loss: 0.9236 - acc: 0.6926\n",
      "Epoch 16/20\n",
      "50000/50000 [==============================] - 69s 1ms/step - loss: 0.9518 - acc: 0.6824\n",
      "Epoch 17/20\n",
      "50000/50000 [==============================] - 69s 1ms/step - loss: 0.9430 - acc: 0.6857\n",
      "Epoch 18/20\n",
      "50000/50000 [==============================] - 68s 1ms/step - loss: 0.9650 - acc: 0.6810\n",
      "Epoch 19/20\n",
      "50000/50000 [==============================] - 68s 1ms/step - loss: 0.9631 - acc: 0.6808\n",
      "Epoch 20/20\n",
      "50000/50000 [==============================] - 69s 1ms/step - loss: 0.9627 - acc: 0.6802\n"
     ]
    },
    {
     "data": {
      "text/plain": [
       "<keras.callbacks.History at 0x1d6f680b7f0>"
      ]
     },
     "execution_count": 11,
     "metadata": {},
     "output_type": "execute_result"
    }
   ],
   "source": [
    "model.fit(x=x_train, y=y_cat_train, verbose=1, epochs=20)ll"
   ]
  },
  {
   "cell_type": "markdown",
   "metadata": {},
   "source": [
    "### Evaluate Model"
   ]
  },
  {
   "cell_type": "code",
   "execution_count": 12,
   "metadata": {},
   "outputs": [
    {
     "data": {
      "text/plain": [
       "['loss', 'acc']"
      ]
     },
     "execution_count": 12,
     "metadata": {},
     "output_type": "execute_result"
    }
   ],
   "source": [
    "model.metrics_names"
   ]
  },
  {
   "cell_type": "code",
   "execution_count": 13,
   "metadata": {},
   "outputs": [
    {
     "name": "stdout",
     "output_type": "stream",
     "text": [
      "10000/10000 [==============================] - 5s 542us/step\n"
     ]
    },
    {
     "data": {
      "text/plain": [
       "[1.2377312821388244, 0.656]"
      ]
     },
     "execution_count": 13,
     "metadata": {},
     "output_type": "execute_result"
    }
   ],
   "source": [
    "model.evaluate(x_test, y_cat_test)"
   ]
  },
  {
   "cell_type": "markdown",
   "metadata": {},
   "source": [
    "### Classfication Report"
   ]
  },
  {
   "cell_type": "code",
   "execution_count": 14,
   "metadata": {},
   "outputs": [],
   "source": [
    "from sklearn.metrics import classification_report"
   ]
  },
  {
   "cell_type": "code",
   "execution_count": 15,
   "metadata": {},
   "outputs": [],
   "source": [
    "predictions = model.predict_classes(x_test)"
   ]
  },
  {
   "cell_type": "code",
   "execution_count": 16,
   "metadata": {},
   "outputs": [
    {
     "name": "stdout",
     "output_type": "stream",
     "text": [
      "             precision    recall  f1-score   support\n",
      "\n",
      "          0       0.71      0.62      0.67      1000\n",
      "          1       0.89      0.73      0.80      1000\n",
      "          2       0.56      0.53      0.54      1000\n",
      "          3       0.52      0.39      0.44      1000\n",
      "          4       0.64      0.57      0.60      1000\n",
      "          5       0.43      0.77      0.55      1000\n",
      "          6       0.77      0.73      0.75      1000\n",
      "          7       0.67      0.73      0.70      1000\n",
      "          8       0.80      0.70      0.75      1000\n",
      "          9       0.77      0.79      0.78      1000\n",
      "\n",
      "avg / total       0.68      0.66      0.66     10000\n",
      "\n"
     ]
    }
   ],
   "source": [
    "report = classification_report(y_test, predictions)\n",
    "print(report)"
   ]
  },
  {
   "cell_type": "markdown",
   "metadata": {},
   "source": [
    "### Save Model"
   ]
  },
  {
   "cell_type": "code",
   "execution_count": 17,
   "metadata": {},
   "outputs": [],
   "source": [
    "model.save('CIFAR10_large_model.h5')"
   ]
  },
  {
   "cell_type": "code",
   "execution_count": null,
   "metadata": {},
   "outputs": [],
   "source": []
  }
 ],
 "metadata": {
  "kernelspec": {
   "display_name": "Python 3",
   "language": "python",
   "name": "python3"
  },
  "language_info": {
   "codemirror_mode": {
    "name": "ipython",
    "version": 3
   },
   "file_extension": ".py",
   "mimetype": "text/x-python",
   "name": "python",
   "nbconvert_exporter": "python",
   "pygments_lexer": "ipython3",
   "version": "3.6.6"
  }
 },
 "nbformat": 4,
 "nbformat_minor": 2
}
