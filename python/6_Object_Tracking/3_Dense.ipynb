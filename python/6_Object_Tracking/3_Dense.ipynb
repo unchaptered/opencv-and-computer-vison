{
 "cells": [
  {
   "cell_type": "code",
   "execution_count": 1,
   "metadata": {},
   "outputs": [],
   "source": [
    "import cv2\n",
    "import numpy as np"
   ]
  },
  {
   "cell_type": "code",
   "execution_count": 2,
   "metadata": {},
   "outputs": [],
   "source": [
    "cap = cv2.VideoCapture(0)\n",
    "\n",
    "ret, prev_frame = cap.read()\n",
    "prev_gray_frame = cv2.cvtColor(prev_frame, cv2.COLOR_BGR2GRAY)\n",
    "\n",
    "hsv_mask = np.zeros_like(prev_frame)\n",
    "hsv_mask[:,:,1] = 255\n",
    "# 색조 채도 명도\n",
    "\n",
    "while True:\n",
    "    \n",
    "    ret, now_frame = cap.read()\n",
    "    now_gray_image = cv2.cvtColor(now_frame, cv2.COLOR_BGR2GRAY)\n",
    "    \n",
    "    optical_flow = cv2.calcOpticalFlowFarneback(prev_gray_frame, now_gray_image, None, 0.5, 3, 15, 3, 5, 1.2, 0)\n",
    "    \n",
    "    # 카데시안 좌표를 극 좌표로 변환\n",
    "        # optical_flow[:,:,0] 가로 좌표\n",
    "    magnitude, angle = cv2.cartToPolar(optical_flow[:,:,0], optical_flow[:,:,1], angleInDegrees = True)\n",
    "    \n",
    "    hsv_mask[:,:,0] = angle / 2\n",
    "    hsv_mask[:,:,2] = cv2.normalize(magnitude, None, 0, 255, cv2.NORM_MINMAX)\n",
    "    \n",
    "    bgr_image = cv2.cvtColor(hsv_mask, cv2.COLOR_HSV2BGR)\n",
    "    cv2.imshow('frame', bgr_image)\n",
    "    \n",
    "    k = cv2.waitKey(10) & 0xFF\n",
    "    if k == 27:\n",
    "        break\n",
    "\n",
    "cv2.destroyAllWindows()"
   ]
  },
  {
   "cell_type": "code",
   "execution_count": null,
   "metadata": {},
   "outputs": [],
   "source": []
  }
 ],
 "metadata": {
  "kernelspec": {
   "display_name": "Python 3",
   "language": "python",
   "name": "python3"
  },
  "language_info": {
   "codemirror_mode": {
    "name": "ipython",
    "version": 3
   },
   "file_extension": ".py",
   "mimetype": "text/x-python",
   "name": "python",
   "nbconvert_exporter": "python",
   "pygments_lexer": "ipython3",
   "version": "3.6.6"
  }
 },
 "nbformat": 4,
 "nbformat_minor": 2
}
