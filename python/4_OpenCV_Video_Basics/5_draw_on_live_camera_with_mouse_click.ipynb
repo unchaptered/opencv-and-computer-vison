{
 "cells": [
  {
   "cell_type": "code",
   "execution_count": 3,
   "metadata": {},
   "outputs": [],
   "source": [
    "import cv2"
   ]
  },
  {
   "cell_type": "code",
   "execution_count": 17,
   "metadata": {},
   "outputs": [],
   "source": [
    "######################\n",
    "## GLOBAL VARIABLES ##\n",
    "######################\n",
    "\n",
    "pt1 = (0, 0)\n",
    "pt2 = (0, 0)\n",
    "top_left_clicked = False\n",
    "bottom_right_clicked = False\n",
    "\n",
    "#######################\n",
    "## CALLBACK FUNCTION ##\n",
    "#######################\n",
    "\n",
    "def draw_rectangle(event, x, y, flags, param):\n",
    "    \n",
    "    global pt1, pt2, top_left_clicked, bottom_right_clicked\n",
    "    \n",
    "    if event == cv2.EVENT_LBUTTONDOWN:\n",
    "        \n",
    "        ## RESET THE RECTANGLE (IF CHEKCS IF THE RECT THERE)\n",
    "        if top_left_clicked == True and bottom_right_clicked == True:\n",
    "            pt1 = (0, 0)\n",
    "            pt2 = (0, 0)\n",
    "            top_left_clicked = False\n",
    "            bottom_right_clicked = False\n",
    "            \n",
    "        if top_left_clicked == False:\n",
    "            pt1 = (x, y)\n",
    "            top_left_clicked = True\n",
    "        \n",
    "        elif bottom_right_clicked == False:\n",
    "            pt2 = (x, y)\n",
    "            bottom_right_clicked = True\n",
    "\n",
    "\n",
    "\n",
    "#############################\n",
    "## CONNECT TO THE CALLBACK ##\n",
    "#############################\n",
    "\n",
    "cap = cv2.VideoCapture(0)\n",
    "\n",
    "width = int(cap.get(cv2.CAP_PROP_FRAME_WIDTH))\n",
    "height = int(cap.get(cv2.CAP_PROP_FRAME_HEIGHT))\n",
    "\n",
    "cv2.namedWindow('Test')\n",
    "cv2.setMouseCallback('Test', draw_rectangle)\n",
    "\n",
    "while True:\n",
    "    \n",
    "    ret, frame = cap.read()\n",
    "     \n",
    "    #########################################################\n",
    "    ## DRAWING ON THE FRAME BASED OFF THE GLOBAL VARIABLES ##\n",
    "    #########################################################\n",
    "    \n",
    "    if top_left_clicked:\n",
    "        cv2.circle(frame, center=pt1, radius=5, color = (0, 0, 255), thickness=-1)\n",
    "        \n",
    "    if top_left_clicked and bottom_right_clicked:\n",
    "        cv2.rectangle(frame, pt1, pt2, (0, 0, 255), 3)\n",
    "        \n",
    "    \n",
    "    # cv2.rectangle(frame, (x, y), (x + w, y + h), color = (0, 0, 255), thickness = 4)\n",
    "    cv2.imshow('Test', frame)\n",
    "    \n",
    "    if cv2.waitKey(1) & 0xFF == ord('q'):\n",
    "        break\n",
    "        \n",
    "cap.release()\n",
    "cv2.destroyAllWindows()"
   ]
  },
  {
   "cell_type": "code",
   "execution_count": 5,
   "metadata": {},
   "outputs": [
    {
     "data": {
      "text/plain": [
       "2"
      ]
     },
     "execution_count": 5,
     "metadata": {},
     "output_type": "execute_result"
    }
   ],
   "source": [
    "10 // 5"
   ]
  },
  {
   "cell_type": "code",
   "execution_count": 6,
   "metadata": {},
   "outputs": [
    {
     "data": {
      "text/plain": [
       "2.0"
      ]
     },
     "execution_count": 6,
     "metadata": {},
     "output_type": "execute_result"
    }
   ],
   "source": [
    "10 / 5"
   ]
  },
  {
   "cell_type": "code",
   "execution_count": null,
   "metadata": {},
   "outputs": [],
   "source": []
  }
 ],
 "metadata": {
  "kernelspec": {
   "display_name": "Python 3",
   "language": "python",
   "name": "python3"
  },
  "language_info": {
   "codemirror_mode": {
    "name": "ipython",
    "version": 3
   },
   "file_extension": ".py",
   "mimetype": "text/x-python",
   "name": "python",
   "nbconvert_exporter": "python",
   "pygments_lexer": "ipython3",
   "version": "3.6.6"
  }
 },
 "nbformat": 4,
 "nbformat_minor": 2
}
