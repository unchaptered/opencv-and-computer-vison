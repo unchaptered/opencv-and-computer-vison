{
 "cells": [
  {
   "cell_type": "code",
   "execution_count": 3,
   "metadata": {},
   "outputs": [],
   "source": [
    "## HELLO ##"
   ]
  },
  {
   "cell_type": "code",
   "execution_count": 2,
   "metadata": {},
   "outputs": [],
   "source": [
    "import cv2"
   ]
  },
  {
   "cell_type": "code",
   "execution_count": 3,
   "metadata": {},
   "outputs": [
    {
     "name": "stdout",
     "output_type": "stream",
     "text": [
      "640 480\n"
     ]
    }
   ],
   "source": [
    "###########################################\n",
    "## Basic Connect Example with Save Video ##\n",
    "###########################################\n",
    "\n",
    "cap = cv2.VideoCapture(0)\n",
    "\n",
    "width = cap.get(cv2.CAP_PROP_FRAME_WIDTH)\n",
    "height = cap.get(cv2.CAP_PROP_FRAME_HEIGHT)\n",
    "\n",
    "int_width = int(width)\n",
    "int_height = int(height)\n",
    "\n",
    "###################################################\n",
    "## cv2.VideoWriter_fourcc means .mp4 video codec ##\n",
    "##  1. Windows : *'DIVX'                         ##\n",
    "##  2. Mac & Linux : *'XVID'                     ##\n",
    "###################################################\n",
    "\n",
    "writer = cv2.VideoWriter(\n",
    "    'mysupervideo.mp4',              # Filename\n",
    "    cv2.VideoWriter_fourcc(*'DIVX'), # Codec\n",
    "    20,                              # Frame\n",
    "    (int_width, int_height)          # Video Size\n",
    ")\n",
    "\n",
    "while True:\n",
    "    \n",
    "    # Tupple Unpacking\n",
    "    ret, frame = cap.read()\n",
    "    \n",
    "    writer.write(frame)\n",
    "    \n",
    "    # gray_frame = cv2.cvtColor(frame, cv2.COLOR_BGR2GRAY)\n",
    "    cv2.imshow('frame', frame)\n",
    "\n",
    "    ## 27 means ESC Key\n",
    "    ## ord('q')\n",
    "    if cv2.waitKey(1) & 0xFF == ord('q'):\n",
    "        break\n",
    "\n",
    "cv2.destroyAllWindows()\n",
    "writer.release()\n",
    "print(int_width, int_height)"
   ]
  },
  {
   "cell_type": "code",
   "execution_count": null,
   "metadata": {},
   "outputs": [],
   "source": []
  }
 ],
 "metadata": {
  "kernelspec": {
   "display_name": "Python 3",
   "language": "python",
   "name": "python3"
  },
  "language_info": {
   "codemirror_mode": {
    "name": "ipython",
    "version": 3
   },
   "file_extension": ".py",
   "mimetype": "text/x-python",
   "name": "python",
   "nbconvert_exporter": "python",
   "pygments_lexer": "ipython3",
   "version": "3.6.6"
  }
 },
 "nbformat": 4,
 "nbformat_minor": 2
}
