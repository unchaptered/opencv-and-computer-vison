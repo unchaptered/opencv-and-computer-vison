{
 "cells": [
  {
   "cell_type": "code",
   "execution_count": 10,
   "metadata": {},
   "outputs": [],
   "source": [
    "import cv2\n",
    "import numpy as np\n",
    "\n",
    "# VARIABLES\n",
    "\n",
    "# True while mouse button down,\n",
    "# False while mouse button up\n",
    "is_drawing = False\n",
    "ix = -1\n",
    "iy = -1\n",
    "\n",
    "# FUNCTION\n",
    "\n",
    "def draw_rectangle(event, x, y, flags, params):\n",
    "    global ix, iy, is_drawing\n",
    "    \n",
    "    if event == cv2.EVENT_LBUTTONDOWN:\n",
    "        is_drawing = True\n",
    "        ix, iy = x, y\n",
    "        \n",
    "    elif event == cv2.EVENT_MOUSEMOVE:\n",
    "        if is_drawing == True:\n",
    "            cv2.rectangle(image, (ix, iy), (x, y), (0, 255, 0), -1)\n",
    "    \n",
    "    elif event == cv2.EVENT_LBUTTONUP:\n",
    "        is_drawing = False\n",
    "        cv2.rectangle(image, (ix, iy), (x, y), (0, 255, 0), -1)\n",
    "    \n",
    "\n",
    "# SHOWING THE IMAGE\n",
    "\n",
    "image = np.zeros((512, 512, 3))\n",
    "\n",
    "cv2.namedWindow(winname='my_drawing')\n",
    "cv2.setMouseCallback('my_drawing', draw_rectangle)\n",
    "\n",
    "\n",
    "while True:\n",
    "    cv2.imshow('my_drawing', image)\n",
    "    \n",
    "    if cv2.waitKey(1) & 0xFF == 27:\n",
    "        break;\n",
    "        \n",
    "cv2.destroyAllWindows()"
   ]
  },
  {
   "cell_type": "code",
   "execution_count": null,
   "metadata": {},
   "outputs": [],
   "source": []
  },
  {
   "cell_type": "code",
   "execution_count": null,
   "metadata": {},
   "outputs": [],
   "source": []
  }
 ],
 "metadata": {
  "kernelspec": {
   "display_name": "Python 3",
   "language": "python",
   "name": "python3"
  },
  "language_info": {
   "codemirror_mode": {
    "name": "ipython",
    "version": 3
   },
   "file_extension": ".py",
   "mimetype": "text/x-python",
   "name": "python",
   "nbconvert_exporter": "python",
   "pygments_lexer": "ipython3",
   "version": "3.6.6"
  }
 },
 "nbformat": 4,
 "nbformat_minor": 2
}
