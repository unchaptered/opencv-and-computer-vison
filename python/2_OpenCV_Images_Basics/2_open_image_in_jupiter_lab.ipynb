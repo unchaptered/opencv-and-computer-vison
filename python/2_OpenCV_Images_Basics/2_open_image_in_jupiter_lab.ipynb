{
 "cells": [
  {
   "cell_type": "code",
   "execution_count": null,
   "metadata": {},
   "outputs": [],
   "source": [
    "import cv2\n",
    "\n",
    "image_path = '../../DATA/00-puppy.jpg'\n",
    "image_target = cv2.imread(image_path)\n",
    "\n",
    "cv2.imshow('Puppy', image_target)\n",
    "cv2.waitKey()\n",
    "\n",
    "# 한번 cv2가 보여준 이미지 창을 닫으면 [Kernel]-[Restart Kernel]로 창을 닫아야 합니다."
   ]
  },
  {
   "cell_type": "code",
   "execution_count": null,
   "metadata": {},
   "outputs": [],
   "source": [
    "print('HELLO')"
   ]
  },
  {
   "cell_type": "code",
   "execution_count": null,
   "metadata": {},
   "outputs": [],
   "source": []
  }
 ],
 "metadata": {
  "kernelspec": {
   "display_name": "Python 3",
   "language": "python",
   "name": "python3"
  },
  "language_info": {
   "codemirror_mode": {
    "name": "ipython",
    "version": 3
   },
   "file_extension": ".py",
   "mimetype": "text/x-python",
   "name": "python",
   "nbconvert_exporter": "python",
   "pygments_lexer": "ipython3",
   "version": "3.6.6"
  }
 },
 "nbformat": 4,
 "nbformat_minor": 2
}
